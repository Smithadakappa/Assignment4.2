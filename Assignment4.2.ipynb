{
 "cells": [
  {
   "cell_type": "code",
   "execution_count": 17,
   "metadata": {},
   "outputs": [
    {
     "name": "stdout",
     "output_type": "stream",
     "text": [
      "[3, 6, 4]\n"
     ]
    }
   ],
   "source": [
    "def map_to_lengths_for(words): \n",
    "    lengths = [] \n",
    "    for word in words: \n",
    "        lengths.append(len(word)) \n",
    "    return lengths \n",
    "\n",
    "if __name__ == \"__main__\": \n",
    "    words = ['abv', 'try me', 'test']\n",
    "    print(map_to_lengths_for(words))"
   ]
  },
  {
   "cell_type": "code",
   "execution_count": 23,
   "metadata": {},
   "outputs": [
    {
     "name": "stdout",
     "output_type": "stream",
     "text": [
      "False\n",
      "True\n",
      "False\n"
     ]
    }
   ],
   "source": [
    " def is_vowel(char): \n",
    "    vowels = ('a', 'e', 'i', 'o', 'u') \n",
    "    if char not in vowels: \n",
    "        return False \n",
    "    return True \n",
    " \n",
    "if __name__ == \"__main__\": \n",
    "    print (is_vowel(1) )\n",
    "    print (is_vowel('a') )\n",
    "    print (is_vowel('b') )\n"
   ]
  }
 ],
 "metadata": {
  "kernelspec": {
   "display_name": "Python 3",
   "language": "python",
   "name": "python3"
  },
  "language_info": {
   "codemirror_mode": {
    "name": "ipython",
    "version": 3
   },
   "file_extension": ".py",
   "mimetype": "text/x-python",
   "name": "python",
   "nbconvert_exporter": "python",
   "pygments_lexer": "ipython3",
   "version": "3.6.3"
  }
 },
 "nbformat": 4,
 "nbformat_minor": 2
}
